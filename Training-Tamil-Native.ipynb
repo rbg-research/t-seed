{
 "cells": [
  {
   "cell_type": "code",
   "execution_count": 1,
   "id": "17bf6a8a",
   "metadata": {},
   "outputs": [],
   "source": [
    "import os\n",
    "os.environ[\"WANDB_DISABLED\"] = \"true\""
   ]
  },
  {
   "cell_type": "code",
   "execution_count": 2,
   "id": "5b63859f",
   "metadata": {},
   "outputs": [
    {
     "name": "stdout",
     "output_type": "stream",
     "text": [
      "Downloading and preparing dataset common_voice/ta (download: 648.28 MiB, generated: 867.00 MiB, post-processed: Unknown size, total: 1.48 GiB) to /home/ubuntu/.cache/huggingface/datasets/common_voice/ta/6.1.0/7cd6a2cd99f885b3ec1205a6aee65d9b8c7b36a2c0f482fa4a1dde3d29860f21...\n"
     ]
    },
    {
     "data": {
      "application/vnd.jupyter.widget-view+json": {
       "model_id": "",
       "version_major": 2,
       "version_minor": 0
      },
      "text/plain": [
       "Generating train split:   0%|          | 0/2009 [00:00<?, ? examples/s]"
      ]
     },
     "metadata": {},
     "output_type": "display_data"
    },
    {
     "data": {
      "application/vnd.jupyter.widget-view+json": {
       "model_id": "",
       "version_major": 2,
       "version_minor": 0
      },
      "text/plain": [
       "Generating test split:   0%|          | 0/1781 [00:00<?, ? examples/s]"
      ]
     },
     "metadata": {},
     "output_type": "display_data"
    },
    {
     "data": {
      "application/vnd.jupyter.widget-view+json": {
       "model_id": "",
       "version_major": 2,
       "version_minor": 0
      },
      "text/plain": [
       "Generating validation split:   0%|          | 0/1779 [00:00<?, ? examples/s]"
      ]
     },
     "metadata": {},
     "output_type": "display_data"
    },
    {
     "data": {
      "application/vnd.jupyter.widget-view+json": {
       "model_id": "",
       "version_major": 2,
       "version_minor": 0
      },
      "text/plain": [
       "Generating other split:   0%|          | 0/7428 [00:00<?, ? examples/s]"
      ]
     },
     "metadata": {},
     "output_type": "display_data"
    },
    {
     "data": {
      "application/vnd.jupyter.widget-view+json": {
       "model_id": "",
       "version_major": 2,
       "version_minor": 0
      },
      "text/plain": [
       "Generating validated split:   0%|          | 0/12652 [00:00<?, ? examples/s]"
      ]
     },
     "metadata": {},
     "output_type": "display_data"
    },
    {
     "data": {
      "application/vnd.jupyter.widget-view+json": {
       "model_id": "",
       "version_major": 2,
       "version_minor": 0
      },
      "text/plain": [
       "Generating invalidated split:   0%|          | 0/594 [00:00<?, ? examples/s]"
      ]
     },
     "metadata": {},
     "output_type": "display_data"
    },
    {
     "name": "stderr",
     "output_type": "stream",
     "text": [
      "Reusing dataset common_voice (/home/ubuntu/.cache/huggingface/datasets/common_voice/ta/6.1.0/7cd6a2cd99f885b3ec1205a6aee65d9b8c7b36a2c0f482fa4a1dde3d29860f21)\n"
     ]
    },
    {
     "name": "stdout",
     "output_type": "stream",
     "text": [
      "Dataset common_voice downloaded and prepared to /home/ubuntu/.cache/huggingface/datasets/common_voice/ta/6.1.0/7cd6a2cd99f885b3ec1205a6aee65d9b8c7b36a2c0f482fa4a1dde3d29860f21. Subsequent calls will reuse this data.\n"
     ]
    }
   ],
   "source": [
    "\n",
    "from datasets import load_dataset, load_metric, Audio\n",
    "\n",
    "common_voice_train = load_dataset(\"common_voice\", \"ta\", split=\"train+validation\")\n",
    "common_voice_test = load_dataset(\"common_voice\", \"ta\", split=\"test\")"
   ]
  },
  {
   "cell_type": "code",
   "execution_count": 3,
   "id": "58cab750",
   "metadata": {},
   "outputs": [],
   "source": [
    "common_voice_train = common_voice_train.remove_columns([\"accent\", \"age\", \"client_id\", \"down_votes\", \"gender\", \"locale\", \"segment\", \"up_votes\"])\n",
    "common_voice_test = common_voice_test.remove_columns([\"accent\", \"age\", \"client_id\", \"down_votes\", \"gender\", \"locale\", \"segment\", \"up_votes\"])"
   ]
  },
  {
   "cell_type": "code",
   "execution_count": 4,
   "id": "6c40557a",
   "metadata": {},
   "outputs": [],
   "source": [
    "import re\n",
    "chars_to_ignore_regex = '[\\,\\?\\.\\!\\-\\;\\:\\\"\\“\\%\\‘\\”\\�]'\n",
    "\n",
    "\n",
    "def remove_special_characters(batch):\n",
    "    batch[\"sentence\"] = re.sub(chars_to_ignore_regex, '', batch[\"sentence\"]).upper() + \" \"\n",
    "    return batch"
   ]
  },
  {
   "cell_type": "code",
   "execution_count": 5,
   "id": "f05835f8",
   "metadata": {},
   "outputs": [
    {
     "data": {
      "application/vnd.jupyter.widget-view+json": {
       "model_id": "3a9f1c055827484a9bfcfe73f4c75b12",
       "version_major": 2,
       "version_minor": 0
      },
      "text/plain": [
       "  0%|          | 0/3788 [00:00<?, ?ex/s]"
      ]
     },
     "metadata": {},
     "output_type": "display_data"
    },
    {
     "data": {
      "application/vnd.jupyter.widget-view+json": {
       "model_id": "1d2f2b29573e46ab9f23157569048271",
       "version_major": 2,
       "version_minor": 0
      },
      "text/plain": [
       "  0%|          | 0/1781 [00:00<?, ?ex/s]"
      ]
     },
     "metadata": {},
     "output_type": "display_data"
    }
   ],
   "source": [
    "common_voice_train = common_voice_train.map(remove_special_characters)\n",
    "common_voice_test = common_voice_test.map(remove_special_characters)"
   ]
  },
  {
   "cell_type": "code",
   "execution_count": 6,
   "id": "705e170f",
   "metadata": {},
   "outputs": [],
   "source": [
    "def extract_all_chars(batch):\n",
    "    all_text = \" \".join(batch[\"sentence\"])\n",
    "    vocab = list(set(all_text))\n",
    "    return {\"vocab\": [vocab], \"all_text\": [all_text]}"
   ]
  },
  {
   "cell_type": "code",
   "execution_count": 7,
   "id": "4fe09038",
   "metadata": {},
   "outputs": [
    {
     "data": {
      "application/vnd.jupyter.widget-view+json": {
       "model_id": "95796f2e71cd412eb39dd045e157cc3e",
       "version_major": 2,
       "version_minor": 0
      },
      "text/plain": [
       "  0%|          | 0/1 [00:00<?, ?ba/s]"
      ]
     },
     "metadata": {},
     "output_type": "display_data"
    },
    {
     "data": {
      "application/vnd.jupyter.widget-view+json": {
       "model_id": "53d8d48605184f93af34dc2cf997628c",
       "version_major": 2,
       "version_minor": 0
      },
      "text/plain": [
       "  0%|          | 0/1 [00:00<?, ?ba/s]"
      ]
     },
     "metadata": {},
     "output_type": "display_data"
    }
   ],
   "source": [
    "vocab_train = common_voice_train.map(extract_all_chars, batched=True, batch_size=-1, keep_in_memory=True, remove_columns=common_voice_train.column_names)\n",
    "vocab_test = common_voice_test.map(extract_all_chars, batched=True, batch_size=-1, keep_in_memory=True, remove_columns=common_voice_test.column_names)"
   ]
  },
  {
   "cell_type": "code",
   "execution_count": 8,
   "id": "5b9b671c",
   "metadata": {},
   "outputs": [],
   "source": [
    "vocab_list = list(set(vocab_train[\"vocab\"][0]) | set(vocab_test[\"vocab\"][0]))"
   ]
  },
  {
   "cell_type": "code",
   "execution_count": 9,
   "id": "679964cf",
   "metadata": {},
   "outputs": [
    {
     "data": {
      "text/plain": [
       "{'ற': 0,\n",
       " 'எ': 1,\n",
       " 'ஒ': 2,\n",
       " 'ஞ': 3,\n",
       " 'ஓ': 4,\n",
       " 'ி': 5,\n",
       " 'உ': 6,\n",
       " 'ழ': 7,\n",
       " 'ஔ': 8,\n",
       " 'ன': 9,\n",
       " 'ம': 10,\n",
       " 'வ': 11,\n",
       " 'ஷ': 12,\n",
       " \"'\": 13,\n",
       " 'இ': 14,\n",
       " 'ோ': 15,\n",
       " 'க': 16,\n",
       " 'அ': 17,\n",
       " '’': 18,\n",
       " 'ஹ': 19,\n",
       " 'ா': 20,\n",
       " 'ஆ': 21,\n",
       " 'ய': 22,\n",
       " 'ே': 23,\n",
       " 'ஐ': 24,\n",
       " 'ை': 25,\n",
       " 'ௌ': 26,\n",
       " 'ஜ': 27,\n",
       " 'ட': 28,\n",
       " 'ஸ': 29,\n",
       " ' ': 30,\n",
       " 'ல': 31,\n",
       " 'ந': 32,\n",
       " '்': 33,\n",
       " 'ப': 34,\n",
       " 'ர': 35,\n",
       " 'ூ': 36,\n",
       " 'ெ': 37,\n",
       " 'ீ': 38,\n",
       " 'ஊ': 39,\n",
       " 'த': 40,\n",
       " 'ு': 41,\n",
       " 'ள': 42,\n",
       " 'ங': 43,\n",
       " 'ண': 44,\n",
       " 'ஏ': 45,\n",
       " 'ஈ': 46,\n",
       " 'ொ': 47,\n",
       " 'ச': 48,\n",
       " 'ஃ': 49}"
      ]
     },
     "execution_count": 9,
     "metadata": {},
     "output_type": "execute_result"
    }
   ],
   "source": [
    "vocab_dict = {v: k for k, v in enumerate(vocab_list)}\n",
    "vocab_dict"
   ]
  },
  {
   "cell_type": "code",
   "execution_count": 10,
   "id": "0b5719dd",
   "metadata": {},
   "outputs": [],
   "source": [
    "vocab_dict[\"|\"] = vocab_dict[\" \"]\n",
    "del vocab_dict[\" \"]"
   ]
  },
  {
   "cell_type": "code",
   "execution_count": 11,
   "id": "e206e7f4",
   "metadata": {},
   "outputs": [
    {
     "data": {
      "text/plain": [
       "52"
      ]
     },
     "execution_count": 11,
     "metadata": {},
     "output_type": "execute_result"
    }
   ],
   "source": [
    "vocab_dict[\"<unk>\"] = len(vocab_dict)\n",
    "vocab_dict[\"<pad>\"] = len(vocab_dict)\n",
    "len(vocab_dict)"
   ]
  },
  {
   "cell_type": "code",
   "execution_count": 12,
   "id": "81827119",
   "metadata": {},
   "outputs": [],
   "source": [
    "import json\n",
    "with open('config/native_vocab.json', 'w') as vocab_file:\n",
    "    json.dump(vocab_dict, vocab_file)"
   ]
  },
  {
   "cell_type": "code",
   "execution_count": 13,
   "id": "fe7c3b4b",
   "metadata": {},
   "outputs": [],
   "source": [
    "from transformers import Wav2Vec2CTCTokenizer\n",
    "\n",
    "tokenizer = Wav2Vec2CTCTokenizer(\"config/native_vocab.json\", unk_token=\"<unk>\", pad_token=\"<pad>\", word_delimiter_token=\"|\")"
   ]
  },
  {
   "cell_type": "code",
   "execution_count": 14,
   "id": "04a2dba3",
   "metadata": {},
   "outputs": [],
   "source": [
    "from transformers import Wav2Vec2FeatureExtractor\n",
    "\n",
    "feature_extractor = Wav2Vec2FeatureExtractor(feature_size=1, sampling_rate=16000, padding_value=0.0, do_normalize=True, return_attention_mask=True)"
   ]
  },
  {
   "cell_type": "code",
   "execution_count": 15,
   "id": "78bfbaa2",
   "metadata": {},
   "outputs": [],
   "source": [
    "from transformers import Wav2Vec2Processor\n",
    "\n",
    "processor = Wav2Vec2Processor(feature_extractor=feature_extractor, tokenizer=tokenizer)"
   ]
  },
  {
   "cell_type": "code",
   "execution_count": 16,
   "id": "4c83530a",
   "metadata": {},
   "outputs": [
    {
     "data": {
      "text/plain": [
       "{'path': 'cv-corpus-6.1-2020-12-11/ta/clips/common_voice_ta_19093432.mp3',\n",
       " 'array': array([ 0.        ,  0.        ,  0.        , ..., -0.00031871,\n",
       "        -0.00020725, -0.00080252], dtype=float32),\n",
       " 'sampling_rate': 48000}"
      ]
     },
     "execution_count": 16,
     "metadata": {},
     "output_type": "execute_result"
    }
   ],
   "source": [
    "common_voice_train[0][\"audio\"]"
   ]
  },
  {
   "cell_type": "code",
   "execution_count": 17,
   "id": "98736c77",
   "metadata": {},
   "outputs": [
    {
     "data": {
      "text/plain": [
       "{'path': 'cv-corpus-6.1-2020-12-11/ta/clips/common_voice_ta_19093432.mp3',\n",
       " 'array': array([ 0.        ,  0.        ,  0.        , ..., -0.00031871,\n",
       "        -0.00020725, -0.00080252], dtype=float32),\n",
       " 'sampling_rate': 48000}"
      ]
     },
     "execution_count": 17,
     "metadata": {},
     "output_type": "execute_result"
    }
   ],
   "source": [
    "common_voice_train[0][\"audio\"]"
   ]
  },
  {
   "cell_type": "code",
   "execution_count": 18,
   "id": "4b19d3be",
   "metadata": {},
   "outputs": [],
   "source": [
    "common_voice_train = common_voice_train.cast_column(\"audio\", Audio(sampling_rate=16_000))\n",
    "common_voice_test = common_voice_test.cast_column(\"audio\", Audio(sampling_rate=16_000))"
   ]
  },
  {
   "cell_type": "code",
   "execution_count": 19,
   "id": "c04cd4b6",
   "metadata": {},
   "outputs": [
    {
     "data": {
      "text/plain": [
       "{'path': 'cv-corpus-6.1-2020-12-11/ta/clips/common_voice_ta_19093432.mp3',\n",
       " 'array': array([ 0.        ,  0.        ,  0.        , ...,  0.0005847 ,\n",
       "         0.00018592, -0.00039355], dtype=float32),\n",
       " 'sampling_rate': 16000}"
      ]
     },
     "execution_count": 19,
     "metadata": {},
     "output_type": "execute_result"
    }
   ],
   "source": [
    "common_voice_train[0][\"audio\"]"
   ]
  },
  {
   "cell_type": "code",
   "execution_count": 20,
   "id": "23acbafb",
   "metadata": {},
   "outputs": [
    {
     "name": "stdout",
     "output_type": "stream",
     "text": [
      "Target text: சிலபேச்சுப் பேசிடுக என்றுசொல்லித் \n",
      "Input array shape: (74112,)\n",
      "Sampling rate: 16000\n"
     ]
    }
   ],
   "source": [
    "import random\n",
    "rand_int = random.randint(0, len(common_voice_train)-1)\n",
    "\n",
    "print(\"Target text:\", common_voice_train[rand_int][\"sentence\"])\n",
    "print(\"Input array shape:\", common_voice_train[rand_int][\"audio\"][\"array\"].shape)\n",
    "print(\"Sampling rate:\", common_voice_train[rand_int][\"audio\"][\"sampling_rate\"])"
   ]
  },
  {
   "cell_type": "code",
   "execution_count": 21,
   "id": "aae55f50",
   "metadata": {},
   "outputs": [],
   "source": [
    "def prepare_dataset(batch):\n",
    "    audio = batch[\"audio\"]\n",
    "\n",
    "    # batched output is \"un-batched\"\n",
    "    batch[\"input_values\"] = processor(audio[\"array\"], sampling_rate=audio[\"sampling_rate\"]).input_values[0]\n",
    "    \n",
    "    with processor.as_target_processor():\n",
    "        batch[\"labels\"] = processor(batch[\"sentence\"]).input_ids\n",
    "    return batch"
   ]
  },
  {
   "cell_type": "code",
   "execution_count": 22,
   "id": "863d3865",
   "metadata": {},
   "outputs": [
    {
     "data": {
      "application/vnd.jupyter.widget-view+json": {
       "model_id": "062d71d24c3b4b968eb0acea062c819f",
       "version_major": 2,
       "version_minor": 0
      },
      "text/plain": [
       "  0%|          | 0/3788 [00:00<?, ?ex/s]"
      ]
     },
     "metadata": {},
     "output_type": "display_data"
    },
    {
     "data": {
      "application/vnd.jupyter.widget-view+json": {
       "model_id": "656ee222fd524560907bb572cd891303",
       "version_major": 2,
       "version_minor": 0
      },
      "text/plain": [
       "  0%|          | 0/1781 [00:00<?, ?ex/s]"
      ]
     },
     "metadata": {},
     "output_type": "display_data"
    }
   ],
   "source": [
    "common_voice_train = common_voice_train.map(prepare_dataset, remove_columns=common_voice_train.column_names)\n",
    "common_voice_test = common_voice_test.map(prepare_dataset, remove_columns=common_voice_test.column_names)"
   ]
  },
  {
   "cell_type": "code",
   "execution_count": 23,
   "id": "d69eedb4",
   "metadata": {},
   "outputs": [],
   "source": [
    "import torch\n",
    "\n",
    "from dataclasses import dataclass, field\n",
    "from typing import Any, Dict, List, Optional, Union\n",
    "\n",
    "@dataclass\n",
    "class DataCollatorCTCWithPadding:\n",
    "    \"\"\"\n",
    "    Data collator that will dynamically pad the inputs received.\n",
    "    Args:\n",
    "        processor (:class:`~transformers.Wav2Vec2Processor`)\n",
    "            The processor used for proccessing the data.\n",
    "        padding (:obj:`bool`, :obj:`str` or :class:`~transformers.tokenization_utils_base.PaddingStrategy`, `optional`, defaults to :obj:`True`):\n",
    "            Select a strategy to pad the returned sequences (according to the model's padding side and padding index)\n",
    "            among:\n",
    "            * :obj:`True` or :obj:`'longest'`: Pad to the longest sequence in the batch (or no padding if only a single\n",
    "              sequence if provided).\n",
    "            * :obj:`'max_length'`: Pad to a maximum length specified with the argument :obj:`max_length` or to the\n",
    "              maximum acceptable input length for the model if that argument is not provided.\n",
    "            * :obj:`False` or :obj:`'do_not_pad'` (default): No padding (i.e., can output a batch with sequences of\n",
    "              different lengths).\n",
    "        max_length (:obj:`int`, `optional`):\n",
    "            Maximum length of the ``input_values`` of the returned list and optionally padding length (see above).\n",
    "        max_length_labels (:obj:`int`, `optional`):\n",
    "            Maximum length of the ``labels`` returned list and optionally padding length (see above).\n",
    "        pad_to_multiple_of (:obj:`int`, `optional`):\n",
    "            If set will pad the sequence to a multiple of the provided value.\n",
    "            This is especially useful to enable the use of Tensor Cores on NVIDIA hardware with compute capability >=\n",
    "            7.5 (Volta).\n",
    "    \"\"\"\n",
    "\n",
    "    processor: Wav2Vec2Processor\n",
    "    padding: Union[bool, str] = True\n",
    "    max_length: Optional[int] = None\n",
    "    max_length_labels: Optional[int] = None\n",
    "    pad_to_multiple_of: Optional[int] = None\n",
    "    pad_to_multiple_of_labels: Optional[int] = None\n",
    "\n",
    "    def __call__(self, features: List[Dict[str, Union[List[int], torch.Tensor]]]) -> Dict[str, torch.Tensor]:\n",
    "        # split inputs and labels since they have to be of different lenghts and need\n",
    "        # different padding methods\n",
    "        input_features = [{\"input_values\": feature[\"input_values\"]} for feature in features]\n",
    "        label_features = [{\"input_ids\": feature[\"labels\"]} for feature in features]\n",
    "\n",
    "        batch = self.processor.pad(\n",
    "            input_features,\n",
    "            padding=self.padding,\n",
    "            max_length=self.max_length,\n",
    "            pad_to_multiple_of=self.pad_to_multiple_of,\n",
    "            return_tensors=\"pt\",\n",
    "        )\n",
    "        with self.processor.as_target_processor():\n",
    "            labels_batch = self.processor.pad(\n",
    "                label_features,\n",
    "                padding=self.padding,\n",
    "                max_length=self.max_length_labels,\n",
    "                pad_to_multiple_of=self.pad_to_multiple_of_labels,\n",
    "                return_tensors=\"pt\",\n",
    "            )\n",
    "\n",
    "        # replace padding with -100 to ignore loss correctly\n",
    "        labels = labels_batch[\"input_ids\"].masked_fill(labels_batch.attention_mask.ne(1), -100)\n",
    "\n",
    "        batch[\"labels\"] = labels\n",
    "\n",
    "        return batch"
   ]
  },
  {
   "cell_type": "code",
   "execution_count": 24,
   "id": "3dfefe47",
   "metadata": {},
   "outputs": [],
   "source": [
    "data_collator = DataCollatorCTCWithPadding(processor=processor, padding=True)"
   ]
  },
  {
   "cell_type": "code",
   "execution_count": 25,
   "id": "799315a6",
   "metadata": {},
   "outputs": [
    {
     "data": {
      "application/vnd.jupyter.widget-view+json": {
       "model_id": "e841b5854cd44c528351d71cd6cf5d0e",
       "version_major": 2,
       "version_minor": 0
      },
      "text/plain": [
       "Downloading builder script:   0%|          | 0.00/1.90k [00:00<?, ?B/s]"
      ]
     },
     "metadata": {},
     "output_type": "display_data"
    }
   ],
   "source": [
    "wer_metric = load_metric(\"wer\")"
   ]
  },
  {
   "cell_type": "code",
   "execution_count": 26,
   "id": "145382be",
   "metadata": {},
   "outputs": [],
   "source": [
    "import numpy as np\n",
    "def compute_metrics(pred):\n",
    "    pred_logits = pred.predictions\n",
    "    pred_ids = np.argmax(pred_logits, axis=-1)\n",
    "\n",
    "    pred.label_ids[pred.label_ids == -100] = processor.tokenizer.pad_token_id\n",
    "\n",
    "    pred_str = processor.batch_decode(pred_ids)\n",
    "    # we do not want to group tokens when computing the metrics\n",
    "    label_str = processor.batch_decode(pred.label_ids, group_tokens=False)\n",
    "\n",
    "    wer = wer_metric.compute(predictions=pred_str, references=label_str)\n",
    "\n",
    "    return {\"wer\": wer}"
   ]
  },
  {
   "cell_type": "code",
   "execution_count": 27,
   "id": "a20a2bf9",
   "metadata": {},
   "outputs": [
    {
     "name": "stderr",
     "output_type": "stream",
     "text": [
      "Some weights of the model checkpoint at facebook/wav2vec2-large-xlsr-53 were not used when initializing Wav2Vec2ForCTC: ['quantizer.weight_proj.weight', 'project_hid.weight', 'quantizer.codevectors', 'quantizer.weight_proj.bias', 'project_q.weight', 'project_q.bias', 'project_hid.bias']\n",
      "- This IS expected if you are initializing Wav2Vec2ForCTC from the checkpoint of a model trained on another task or with another architecture (e.g. initializing a BertForSequenceClassification model from a BertForPreTraining model).\n",
      "- This IS NOT expected if you are initializing Wav2Vec2ForCTC from the checkpoint of a model that you expect to be exactly identical (initializing a BertForSequenceClassification model from a BertForSequenceClassification model).\n",
      "Some weights of Wav2Vec2ForCTC were not initialized from the model checkpoint at facebook/wav2vec2-large-xlsr-53 and are newly initialized: ['lm_head.bias', 'lm_head.weight']\n",
      "You should probably TRAIN this model on a down-stream task to be able to use it for predictions and inference.\n"
     ]
    }
   ],
   "source": [
    "from transformers import Wav2Vec2ForCTC\n",
    "\n",
    "model = Wav2Vec2ForCTC.from_pretrained(\n",
    "    \"facebook/wav2vec2-large-xlsr-53\", \n",
    "    attention_dropout=0.1,\n",
    "    hidden_dropout=0.1,\n",
    "    feat_proj_dropout=0.0,\n",
    "    mask_time_prob=0.05,\n",
    "    layerdrop=0.1,\n",
    "    ctc_loss_reduction=\"mean\", \n",
    "    pad_token_id=processor.tokenizer.pad_token_id,\n",
    "    vocab_size=len(processor.tokenizer)\n",
    ")"
   ]
  },
  {
   "cell_type": "code",
   "execution_count": 28,
   "id": "cc4d995c",
   "metadata": {},
   "outputs": [
    {
     "name": "stderr",
     "output_type": "stream",
     "text": [
      "/home/ubuntu/environments/r-u/lib/python3.8/site-packages/transformers/models/wav2vec2/modeling_wav2vec2.py:1674: FutureWarning: The method `freeze_feature_extractor` is deprecated and will be removed in Transformers v5.Please use the equivalent `freeze_feature_encoder` method instead.\n",
      "  warnings.warn(\n"
     ]
    }
   ],
   "source": [
    "model.freeze_feature_extractor()\n",
    "model.gradient_checkpointing_enable()"
   ]
  },
  {
   "cell_type": "code",
   "execution_count": 29,
   "id": "2d6839d9",
   "metadata": {},
   "outputs": [
    {
     "name": "stderr",
     "output_type": "stream",
     "text": [
      "Using the `WAND_DISABLED` environment variable is deprecated and will be removed in v5. Use the --report_to flag to control the integrations used for logging result (for instance --report_to none).\n"
     ]
    }
   ],
   "source": [
    "from transformers import TrainingArguments\n",
    "\n",
    "training_args = TrainingArguments(\n",
    "  output_dir=\"wav2vec2-large-rbg-tamil-native\",\n",
    "  group_by_length=True,\n",
    "  per_device_train_batch_size=16,\n",
    "  gradient_accumulation_steps=2,\n",
    "  evaluation_strategy=\"steps\",\n",
    "  num_train_epochs=50,\n",
    "  fp16=True,\n",
    "  save_steps=100,\n",
    "  eval_steps=100,\n",
    "  logging_steps=10,\n",
    "  learning_rate=3e-4,\n",
    "  warmup_steps=500,\n",
    "  save_total_limit=2,\n",
    ")"
   ]
  },
  {
   "cell_type": "code",
   "execution_count": 30,
   "id": "57a435a0",
   "metadata": {},
   "outputs": [
    {
     "name": "stderr",
     "output_type": "stream",
     "text": [
      "Using amp half precision backend\n"
     ]
    }
   ],
   "source": [
    "from transformers import Trainer\n",
    "\n",
    "trainer = Trainer(\n",
    "    model=model,\n",
    "    data_collator=data_collator,\n",
    "    args=training_args,\n",
    "    compute_metrics=compute_metrics,\n",
    "    train_dataset=common_voice_train,\n",
    "    eval_dataset=common_voice_test,\n",
    "    tokenizer=processor.feature_extractor,\n",
    ")"
   ]
  },
  {
   "cell_type": "code",
   "execution_count": null,
   "id": "b6a04e68",
   "metadata": {},
   "outputs": [
    {
     "name": "stderr",
     "output_type": "stream",
     "text": [
      "/home/ubuntu/environments/r-u/lib/python3.8/site-packages/transformers/optimization.py:306: FutureWarning: This implementation of AdamW is deprecated and will be removed in a future version. Use the PyTorch implementation torch.optim.AdamW instead, or set `no_deprecation_warning=True` to disable this warning\n",
      "  warnings.warn(\n",
      "***** Running training *****\n",
      "  Num examples = 3788\n",
      "  Num Epochs = 50\n",
      "  Instantaneous batch size per device = 16\n",
      "  Total train batch size (w. parallel, distributed & accumulation) = 32\n",
      "  Gradient Accumulation steps = 2\n",
      "  Total optimization steps = 5900\n"
     ]
    },
    {
     "data": {
      "text/html": [
       "\n",
       "    <div>\n",
       "      \n",
       "      <progress value='1737' max='5900' style='width:300px; height:20px; vertical-align: middle;'></progress>\n",
       "      [1737/5900 3:55:39 < 9:25:27, 0.12 it/s, Epoch 14.71/50]\n",
       "    </div>\n",
       "    <table border=\"1\" class=\"dataframe\">\n",
       "  <thead>\n",
       " <tr style=\"text-align: left;\">\n",
       "      <th>Step</th>\n",
       "      <th>Training Loss</th>\n",
       "      <th>Validation Loss</th>\n",
       "      <th>Wer</th>\n",
       "    </tr>\n",
       "  </thead>\n",
       "  <tbody>\n",
       "    <tr>\n",
       "      <td>100</td>\n",
       "      <td>6.030600</td>\n",
       "      <td>4.976487</td>\n",
       "      <td>1.000000</td>\n",
       "    </tr>\n",
       "    <tr>\n",
       "      <td>200</td>\n",
       "      <td>3.265200</td>\n",
       "      <td>3.314204</td>\n",
       "      <td>1.000000</td>\n",
       "    </tr>\n",
       "    <tr>\n",
       "      <td>300</td>\n",
       "      <td>3.244200</td>\n",
       "      <td>3.284747</td>\n",
       "      <td>1.000000</td>\n",
       "    </tr>\n",
       "    <tr>\n",
       "      <td>400</td>\n",
       "      <td>3.128600</td>\n",
       "      <td>3.154126</td>\n",
       "      <td>1.000000</td>\n",
       "    </tr>\n",
       "    <tr>\n",
       "      <td>500</td>\n",
       "      <td>2.533400</td>\n",
       "      <td>2.226719</td>\n",
       "      <td>1.263313</td>\n",
       "    </tr>\n",
       "    <tr>\n",
       "      <td>600</td>\n",
       "      <td>0.941200</td>\n",
       "      <td>0.866137</td>\n",
       "      <td>1.069552</td>\n",
       "    </tr>\n",
       "    <tr>\n",
       "      <td>700</td>\n",
       "      <td>0.660800</td>\n",
       "      <td>0.676899</td>\n",
       "      <td>1.014191</td>\n",
       "    </tr>\n",
       "    <tr>\n",
       "      <td>800</td>\n",
       "      <td>0.621300</td>\n",
       "      <td>0.612306</td>\n",
       "      <td>0.923985</td>\n",
       "    </tr>\n",
       "    <tr>\n",
       "      <td>900</td>\n",
       "      <td>0.454600</td>\n",
       "      <td>0.591024</td>\n",
       "      <td>0.931713</td>\n",
       "    </tr>\n",
       "    <tr>\n",
       "      <td>1000</td>\n",
       "      <td>0.445700</td>\n",
       "      <td>0.597546</td>\n",
       "      <td>0.959393</td>\n",
       "    </tr>\n",
       "    <tr>\n",
       "      <td>1100</td>\n",
       "      <td>0.380100</td>\n",
       "      <td>0.568877</td>\n",
       "      <td>0.905578</td>\n",
       "    </tr>\n",
       "    <tr>\n",
       "      <td>1200</td>\n",
       "      <td>0.311400</td>\n",
       "      <td>0.587200</td>\n",
       "      <td>0.878601</td>\n",
       "    </tr>\n",
       "    <tr>\n",
       "      <td>1300</td>\n",
       "      <td>0.402100</td>\n",
       "      <td>0.585675</td>\n",
       "      <td>0.884221</td>\n",
       "    </tr>\n",
       "    <tr>\n",
       "      <td>1400</td>\n",
       "      <td>0.317800</td>\n",
       "      <td>0.577710</td>\n",
       "      <td>0.908669</td>\n",
       "    </tr>\n",
       "    <tr>\n",
       "      <td>1500</td>\n",
       "      <td>0.297300</td>\n",
       "      <td>0.607713</td>\n",
       "      <td>0.880146</td>\n",
       "    </tr>\n",
       "    <tr>\n",
       "      <td>1600</td>\n",
       "      <td>0.281900</td>\n",
       "      <td>0.597228</td>\n",
       "      <td>0.850218</td>\n",
       "    </tr>\n",
       "    <tr>\n",
       "      <td>1700</td>\n",
       "      <td>0.250500</td>\n",
       "      <td>0.613976</td>\n",
       "      <td>0.859070</td>\n",
       "    </tr>\n",
       "  </tbody>\n",
       "</table><p>"
      ],
      "text/plain": [
       "<IPython.core.display.HTML object>"
      ]
     },
     "metadata": {},
     "output_type": "display_data"
    },
    {
     "name": "stderr",
     "output_type": "stream",
     "text": [
      "***** Running Evaluation *****\n",
      "  Num examples = 1781\n",
      "  Batch size = 8\n",
      "Saving model checkpoint to wav2vec2-large-rbg-tamil-native/checkpoint-100\n",
      "Configuration saved in wav2vec2-large-rbg-tamil-native/checkpoint-100/config.json\n",
      "Model weights saved in wav2vec2-large-rbg-tamil-native/checkpoint-100/pytorch_model.bin\n",
      "Feature extractor saved in wav2vec2-large-rbg-tamil-native/checkpoint-100/preprocessor_config.json\n",
      "***** Running Evaluation *****\n",
      "  Num examples = 1781\n",
      "  Batch size = 8\n",
      "Saving model checkpoint to wav2vec2-large-rbg-tamil-native/checkpoint-200\n",
      "Configuration saved in wav2vec2-large-rbg-tamil-native/checkpoint-200/config.json\n",
      "Model weights saved in wav2vec2-large-rbg-tamil-native/checkpoint-200/pytorch_model.bin\n",
      "Feature extractor saved in wav2vec2-large-rbg-tamil-native/checkpoint-200/preprocessor_config.json\n",
      "***** Running Evaluation *****\n",
      "  Num examples = 1781\n",
      "  Batch size = 8\n",
      "Saving model checkpoint to wav2vec2-large-rbg-tamil-native/checkpoint-300\n",
      "Configuration saved in wav2vec2-large-rbg-tamil-native/checkpoint-300/config.json\n",
      "Model weights saved in wav2vec2-large-rbg-tamil-native/checkpoint-300/pytorch_model.bin\n",
      "Feature extractor saved in wav2vec2-large-rbg-tamil-native/checkpoint-300/preprocessor_config.json\n",
      "Deleting older checkpoint [wav2vec2-large-rbg-tamil-native/checkpoint-100] due to args.save_total_limit\n",
      "***** Running Evaluation *****\n",
      "  Num examples = 1781\n",
      "  Batch size = 8\n",
      "Deleting older checkpoint [wav2vec2-large-rbg-tamil-native/checkpoint-200] due to args.save_total_limit\n",
      "***** Running Evaluation *****\n",
      "  Num examples = 1781\n",
      "  Batch size = 8\n",
      "***** Running Evaluation *****\n",
      "  Num examples = 1781\n",
      "  Batch size = 8\n",
      "Saving model checkpoint to wav2vec2-large-rbg-tamil-native/checkpoint-700\n",
      "Configuration saved in wav2vec2-large-rbg-tamil-native/checkpoint-700/config.json\n",
      "Model weights saved in wav2vec2-large-rbg-tamil-native/checkpoint-700/pytorch_model.bin\n",
      "Feature extractor saved in wav2vec2-large-rbg-tamil-native/checkpoint-700/preprocessor_config.json\n",
      "Deleting older checkpoint [wav2vec2-large-rbg-tamil-native/checkpoint-500] due to args.save_total_limit\n",
      "***** Running Evaluation *****\n",
      "  Num examples = 1781\n",
      "  Batch size = 8\n",
      "Saving model checkpoint to wav2vec2-large-rbg-tamil-native/checkpoint-800\n",
      "Configuration saved in wav2vec2-large-rbg-tamil-native/checkpoint-800/config.json\n",
      "Model weights saved in wav2vec2-large-rbg-tamil-native/checkpoint-800/pytorch_model.bin\n",
      "Feature extractor saved in wav2vec2-large-rbg-tamil-native/checkpoint-800/preprocessor_config.json\n",
      "Deleting older checkpoint [wav2vec2-large-rbg-tamil-native/checkpoint-600] due to args.save_total_limit\n",
      "***** Running Evaluation *****\n",
      "  Num examples = 1781\n",
      "  Batch size = 8\n",
      "Saving model checkpoint to wav2vec2-large-rbg-tamil-native/checkpoint-900\n",
      "Configuration saved in wav2vec2-large-rbg-tamil-native/checkpoint-900/config.json\n",
      "Model weights saved in wav2vec2-large-rbg-tamil-native/checkpoint-900/pytorch_model.bin\n",
      "Feature extractor saved in wav2vec2-large-rbg-tamil-native/checkpoint-900/preprocessor_config.json\n",
      "Deleting older checkpoint [wav2vec2-large-rbg-tamil-native/checkpoint-700] due to args.save_total_limit\n",
      "***** Running Evaluation *****\n",
      "  Num examples = 1781\n",
      "  Batch size = 8\n",
      "Saving model checkpoint to wav2vec2-large-rbg-tamil-native/checkpoint-1000\n",
      "Configuration saved in wav2vec2-large-rbg-tamil-native/checkpoint-1000/config.json\n",
      "Model weights saved in wav2vec2-large-rbg-tamil-native/checkpoint-1000/pytorch_model.bin\n",
      "Feature extractor saved in wav2vec2-large-rbg-tamil-native/checkpoint-1000/preprocessor_config.json\n",
      "Deleting older checkpoint [wav2vec2-large-rbg-tamil-native/checkpoint-800] due to args.save_total_limit\n",
      "***** Running Evaluation *****\n",
      "  Num examples = 1781\n",
      "  Batch size = 8\n",
      "Saving model checkpoint to wav2vec2-large-rbg-tamil-native/checkpoint-1100\n",
      "Configuration saved in wav2vec2-large-rbg-tamil-native/checkpoint-1100/config.json\n",
      "Model weights saved in wav2vec2-large-rbg-tamil-native/checkpoint-1100/pytorch_model.bin\n",
      "Feature extractor saved in wav2vec2-large-rbg-tamil-native/checkpoint-1100/preprocessor_config.json\n",
      "Deleting older checkpoint [wav2vec2-large-rbg-tamil-native/checkpoint-900] due to args.save_total_limit\n",
      "***** Running Evaluation *****\n",
      "  Num examples = 1781\n",
      "  Batch size = 8\n",
      "Saving model checkpoint to wav2vec2-large-rbg-tamil-native/checkpoint-1200\n",
      "Configuration saved in wav2vec2-large-rbg-tamil-native/checkpoint-1200/config.json\n",
      "Model weights saved in wav2vec2-large-rbg-tamil-native/checkpoint-1200/pytorch_model.bin\n",
      "Feature extractor saved in wav2vec2-large-rbg-tamil-native/checkpoint-1200/preprocessor_config.json\n",
      "Deleting older checkpoint [wav2vec2-large-rbg-tamil-native/checkpoint-1000] due to args.save_total_limit\n",
      "***** Running Evaluation *****\n",
      "  Num examples = 1781\n",
      "  Batch size = 8\n",
      "Saving model checkpoint to wav2vec2-large-rbg-tamil-native/checkpoint-1300\n",
      "Configuration saved in wav2vec2-large-rbg-tamil-native/checkpoint-1300/config.json\n",
      "Model weights saved in wav2vec2-large-rbg-tamil-native/checkpoint-1300/pytorch_model.bin\n",
      "Feature extractor saved in wav2vec2-large-rbg-tamil-native/checkpoint-1300/preprocessor_config.json\n",
      "Deleting older checkpoint [wav2vec2-large-rbg-tamil-native/checkpoint-1100] due to args.save_total_limit\n",
      "***** Running Evaluation *****\n",
      "  Num examples = 1781\n",
      "  Batch size = 8\n",
      "Saving model checkpoint to wav2vec2-large-rbg-tamil-native/checkpoint-1400\n",
      "Configuration saved in wav2vec2-large-rbg-tamil-native/checkpoint-1400/config.json\n",
      "Model weights saved in wav2vec2-large-rbg-tamil-native/checkpoint-1400/pytorch_model.bin\n",
      "Feature extractor saved in wav2vec2-large-rbg-tamil-native/checkpoint-1400/preprocessor_config.json\n",
      "Deleting older checkpoint [wav2vec2-large-rbg-tamil-native/checkpoint-1200] due to args.save_total_limit\n",
      "***** Running Evaluation *****\n",
      "  Num examples = 1781\n",
      "  Batch size = 8\n",
      "Saving model checkpoint to wav2vec2-large-rbg-tamil-native/checkpoint-1500\n",
      "Configuration saved in wav2vec2-large-rbg-tamil-native/checkpoint-1500/config.json\n",
      "Model weights saved in wav2vec2-large-rbg-tamil-native/checkpoint-1500/pytorch_model.bin\n",
      "Feature extractor saved in wav2vec2-large-rbg-tamil-native/checkpoint-1500/preprocessor_config.json\n",
      "Deleting older checkpoint [wav2vec2-large-rbg-tamil-native/checkpoint-1300] due to args.save_total_limit\n",
      "***** Running Evaluation *****\n",
      "  Num examples = 1781\n",
      "  Batch size = 8\n",
      "Saving model checkpoint to wav2vec2-large-rbg-tamil-native/checkpoint-1600\n",
      "Configuration saved in wav2vec2-large-rbg-tamil-native/checkpoint-1600/config.json\n",
      "Model weights saved in wav2vec2-large-rbg-tamil-native/checkpoint-1600/pytorch_model.bin\n",
      "Feature extractor saved in wav2vec2-large-rbg-tamil-native/checkpoint-1600/preprocessor_config.json\n",
      "Deleting older checkpoint [wav2vec2-large-rbg-tamil-native/checkpoint-1400] due to args.save_total_limit\n",
      "***** Running Evaluation *****\n",
      "  Num examples = 1781\n",
      "  Batch size = 8\n",
      "Saving model checkpoint to wav2vec2-large-rbg-tamil-native/checkpoint-1700\n",
      "Configuration saved in wav2vec2-large-rbg-tamil-native/checkpoint-1700/config.json\n",
      "Model weights saved in wav2vec2-large-rbg-tamil-native/checkpoint-1700/pytorch_model.bin\n",
      "Feature extractor saved in wav2vec2-large-rbg-tamil-native/checkpoint-1700/preprocessor_config.json\n",
      "Deleting older checkpoint [wav2vec2-large-rbg-tamil-native/checkpoint-1500] due to args.save_total_limit\n"
     ]
    }
   ],
   "source": [
    "trainer.train()"
   ]
  }
 ],
 "metadata": {
  "kernelspec": {
   "display_name": "r-u",
   "language": "python",
   "name": "r-u"
  },
  "language_info": {
   "codemirror_mode": {
    "name": "ipython",
    "version": 3
   },
   "file_extension": ".py",
   "mimetype": "text/x-python",
   "name": "python",
   "nbconvert_exporter": "python",
   "pygments_lexer": "ipython3",
   "version": "3.8.0"
  }
 },
 "nbformat": 4,
 "nbformat_minor": 5
}
